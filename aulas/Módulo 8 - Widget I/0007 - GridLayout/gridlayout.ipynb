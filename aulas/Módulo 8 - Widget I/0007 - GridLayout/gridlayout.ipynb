{
 "cells": [
  {
   "cell_type": "code",
   "execution_count": null,
   "metadata": {
    "collapsed": false
   },
   "outputs": [],
   "source": [
    "#coding: utf-8\n",
    "#author: Cláudio Rogério Carvalho Filho\n",
    "#####################\n",
    "#### eXcript.com ####\n",
    "#####################\n",
    "\n",
    "from kivy.app import App\n",
    "from kivy.uix.button import Button\n",
    "from kivy.interactive import InteractiveLauncher\n",
    "from kivy.lang import Builder\n",
    "\n",
    "#força a aplicação a não iniciar em tela cheia\n",
    "from kivy.config import Config\n",
    "Config.set(\"graphics\", \"fullscreen\", \"0\")\n",
    "\n",
    "janela = None\n",
    "glayout = None"
   ]
  },
  {
   "cell_type": "code",
   "execution_count": null,
   "metadata": {
    "collapsed": true
   },
   "outputs": [],
   "source": [
    "class JanelaApp(App):\n",
    "    pass\n",
    "\n",
    "janela = JanelaApp()\n",
    "ji = InteractiveLauncher( janela )\n",
    "ji.run()"
   ]
  },
  {
   "cell_type": "code",
   "execution_count": null,
   "metadata": {
    "collapsed": false
   },
   "outputs": [],
   "source": [
    "kvcode = \"\"\"\n",
    "\n",
    "GridLayout:\n",
    "    cols: 3\n",
    "    rows: None\n",
    "    \n",
    "    row_default_height: 50\n",
    "    row_force_default: True\n",
    "\n",
    "    #col_default_width: 50\n",
    "    #col_force_default: True\n",
    "    \n",
    "    Button:\n",
    "        text: \"A\"\n",
    "        size_hint: .3, None\n",
    "    Button:\n",
    "        text: \"B\"\n",
    "    Button:\n",
    "        text: \"C\"\n",
    "    Button:\n",
    "        text: \"D\"\n",
    "        size_hint: .3, None\n",
    "    Button:\n",
    "        text: \"E\"\n",
    "    Button:\n",
    "        text: \"F\"\n",
    "    Button:\n",
    "        text: \"G\"\n",
    "        size_hint: .3, None\n",
    "\n",
    "\"\"\"\n",
    "\n",
    "if(janela.root):\n",
    "    janela.root_window.remove_widget( janela.root )\n",
    "    janela.root = None\n",
    "    glayout = None\n",
    "\n",
    "janela.root = glayout = Builder.load_string( kvcode )\n",
    "janela.root_window.add_widget( glayout )"
   ]
  },
  {
   "cell_type": "code",
   "execution_count": null,
   "metadata": {
    "collapsed": true
   },
   "outputs": [],
   "source": [
    "glayout.add_widget(Button(text=\"x\"))"
   ]
  },
  {
   "cell_type": "code",
   "execution_count": null,
   "metadata": {
    "collapsed": false
   },
   "outputs": [],
   "source": []
  },
  {
   "cell_type": "code",
   "execution_count": null,
   "metadata": {
    "collapsed": true
   },
   "outputs": [],
   "source": []
  }
 ],
 "metadata": {
  "kernelspec": {
   "display_name": "Python 3",
   "language": "python",
   "name": "python3"
  },
  "language_info": {
   "codemirror_mode": {
    "name": "ipython",
    "version": 3
   },
   "file_extension": ".py",
   "mimetype": "text/x-python",
   "name": "python",
   "nbconvert_exporter": "python",
   "pygments_lexer": "ipython3",
   "version": "3.5.2"
  }
 },
 "nbformat": 4,
 "nbformat_minor": 0
}
