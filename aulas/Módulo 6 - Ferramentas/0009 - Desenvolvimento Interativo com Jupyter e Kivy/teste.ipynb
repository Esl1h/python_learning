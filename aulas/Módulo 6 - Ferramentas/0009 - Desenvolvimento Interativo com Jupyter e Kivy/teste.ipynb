{
 "cells": [
  {
   "cell_type": "code",
   "execution_count": 1,
   "metadata": {
    "collapsed": false
   },
   "outputs": [
    {
     "name": "stderr",
     "output_type": "stream",
     "text": [
      "[INFO              ] [Logger      ] Record log in C:\\Users\\Claudio\\.kivy\\logs\\kivy_16-09-05_35.txt\n",
      "[INFO              ] [Kivy        ] v1.9.1\n",
      "[INFO              ] [Python      ] v3.5.2 |Continuum Analytics, Inc.| (default, Jul  5 2016, 11:45:57) [MSC v.1900 32 bit (Intel)]\n",
      "[INFO              ] [Factory     ] 179 symbols loaded\n",
      "[INFO              ] [Image       ] Providers: img_tex, img_dds, img_gif, img_sdl2 (img_pil, img_ffpyplayer ignored)\n",
      "[INFO              ] [Text        ] Provider: sdl2\n"
     ]
    },
    {
     "name": "stdout",
     "output_type": "stream",
     "text": [
      "----\n",
      "C:\\Users\\Claudio\\.kivy\\config.ini\n",
      "----\n"
     ]
    }
   ],
   "source": [
    "#importação dos pacotes das classe\n",
    "from kivy.app import App\n",
    "from kivy.uix.widget import Widget\n",
    "from kivy.uix.button import Button\n",
    "from kivy.interactive import InteractiveLauncher\n",
    "\n",
    "#alteração da exibição\n",
    "from kivy.config import Config\n",
    "Config.set('graphics', 'fullscreen', '0')\n",
    "#Config.set('modules', 'console', '')\n",
    "#Config.set(\"modules\", \"console\", \"\")"
   ]
  },
  {
   "cell_type": "code",
   "execution_count": 2,
   "metadata": {
    "collapsed": true
   },
   "outputs": [],
   "source": [
    "#classe da nossa aplicação\n",
    "class EstudoApp(App):\n",
    "    def build(self):\n",
    "        return Button()"
   ]
  },
  {
   "cell_type": "code",
   "execution_count": 3,
   "metadata": {
    "collapsed": false
   },
   "outputs": [],
   "source": [
    "#criar instancia da EstudoApp()\n",
    "e = EstudoApp()\n",
    "ji = InteractiveLauncher( e )\n",
    "ji.run()"
   ]
  },
  {
   "cell_type": "code",
   "execution_count": 4,
   "metadata": {
    "collapsed": false
   },
   "outputs": [],
   "source": [
    "from kivy.uix.button import Button\n",
    "bt = Button(text=\"eXcript\")"
   ]
  },
  {
   "cell_type": "code",
   "execution_count": 5,
   "metadata": {
    "collapsed": false
   },
   "outputs": [],
   "source": [
    "ji.root.add_widget( bt )"
   ]
  },
  {
   "cell_type": "code",
   "execution_count": 6,
   "metadata": {
    "collapsed": false
   },
   "outputs": [],
   "source": [
    "bt.text = \"123\""
   ]
  },
  {
   "cell_type": "code",
   "execution_count": null,
   "metadata": {
    "collapsed": false
   },
   "outputs": [],
   "source": [
    "from kivy.lang import Builder\n",
    "tela = \"\"\"\n",
    "<Tela111>:\n",
    "    Button:\n",
    "        text: 'bt1'\n",
    "    Button:\n",
    "        text: 'bt2'\n",
    "    Button:\n",
    "        text: 'bt3'\n",
    "<Tela2@BoxLayout>:\n",
    "    Button:\n",
    "        text: 'bt1'\n",
    "\"\"\"\n",
    "Builder.load_string(tela)\n",
    "\n",
    "\n"
   ]
  },
  {
   "cell_type": "code",
   "execution_count": 8,
   "metadata": {
    "collapsed": false
   },
   "outputs": [],
   "source": [
    "from kivy.uix.label import Label\n",
    "#e.root_window.add_widget(Label(text=\"asdfa\"))\n",
    "e.root_window.add_widget(e.root)"
   ]
  },
  {
   "cell_type": "code",
   "execution_count": null,
   "metadata": {
    "collapsed": false
   },
   "outputs": [],
   "source": [
    "print(e.root_window)\n",
    "e.root\n"
   ]
  },
  {
   "cell_type": "code",
   "execution_count": null,
   "metadata": {
    "collapsed": false
   },
   "outputs": [],
   "source": [
    "print(e.root_window)\n",
    "print(e.root)\n"
   ]
  },
  {
   "cell_type": "code",
   "execution_count": 7,
   "metadata": {
    "collapsed": false
   },
   "outputs": [],
   "source": [
    "for child in e._app_window.children:\n",
    "    e._app_window.remove_widget(child)\n"
   ]
  },
  {
   "cell_type": "code",
   "execution_count": null,
   "metadata": {
    "collapsed": false
   },
   "outputs": [],
   "source": [
    "e._app_window"
   ]
  },
  {
   "cell_type": "code",
   "execution_count": null,
   "metadata": {
    "collapsed": false
   },
   "outputs": [],
   "source": [
    "e.root = None\n",
    "e.root_window = None"
   ]
  },
  {
   "cell_type": "code",
   "execution_count": null,
   "metadata": {
    "collapsed": true
   },
   "outputs": [],
   "source": [
    "Config.set('modules', 'console', '')"
   ]
  },
  {
   "cell_type": "code",
   "execution_count": null,
   "metadata": {
    "collapsed": false
   },
   "outputs": [],
   "source": [
    "e."
   ]
  }
 ],
 "metadata": {
  "kernelspec": {
   "display_name": "Python 3",
   "language": "python",
   "name": "python3"
  },
  "language_info": {
   "codemirror_mode": {
    "name": "ipython",
    "version": 3
   },
   "file_extension": ".py",
   "mimetype": "text/x-python",
   "name": "python",
   "nbconvert_exporter": "python",
   "pygments_lexer": "ipython3",
   "version": "3.5.2"
  }
 },
 "nbformat": 4,
 "nbformat_minor": 0
}
