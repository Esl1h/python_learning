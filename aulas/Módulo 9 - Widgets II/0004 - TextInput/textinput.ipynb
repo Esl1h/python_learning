{
 "cells": [
  {
   "cell_type": "code",
   "execution_count": 1,
   "metadata": {
    "collapsed": false
   },
   "outputs": [
    {
     "name": "stderr",
     "output_type": "stream",
     "text": [
      "[INFO              ] [Logger      ] Record log in C:\\Users\\Claudio\\.kivy\\logs\\kivy_16-10-03_2.txt\n",
      "[INFO              ] [Factory     ] 179 symbols loaded\n",
      "[DEBUG             ] [Cache       ] register <kv.image> with limit=None, timeout=60\n",
      "[DEBUG             ] [Cache       ] register <kv.atlas> with limit=None, timeout=None\n",
      "[INFO              ] [Image       ] Providers: img_tex, img_dds, img_gif, img_sdl2 (img_pil, img_ffpyplayer ignored)\n",
      "[DEBUG             ] [Cache       ] register <kv.texture> with limit=1000, timeout=60\n",
      "[DEBUG             ] [Cache       ] register <kv.shader> with limit=1000, timeout=3600\n",
      "[DEBUG             ] [Cache       ] register <kv.lang> with limit=None, timeout=None\n",
      "[INFO              ] [Text        ] Provider: sdl2\n",
      "[DEBUG             ] [Cache       ] register <textinput.label> with limit=None, timeout=60.0\n",
      "[DEBUG             ] [Cache       ] register <textinput.width> with limit=None, timeout=60.0\n",
      "[INFO              ] [Kivy        ] v1.9.1\n",
      "[INFO              ] [Python      ] v3.5.2 |Continuum Analytics, Inc.| (default, Jul  5 2016, 11:45:57) [MSC v.1900 32 bit (Intel)]\n"
     ]
    }
   ],
   "source": [
    "#coding: utf-8\n",
    "#author: Cláudio Rogério Carvalho Filho\n",
    "#####################\n",
    "#### eXcript.com ####\n",
    "#####################\n",
    "\n",
    "from kivy.app import App\n",
    "from kivy.uix.button import Button\n",
    "from kivy.uix.label import Label\n",
    "from kivy.interactive import InteractiveLauncher\n",
    "from kivy.lang import Builder\n",
    "\n",
    "#força a aplicação a não iniciar em tela cheia\n",
    "from kivy.config import Config\n",
    "Config.set(\"graphics\", \"fullscreen\", \"0\")\n",
    "\n",
    "janela = None\n",
    "glayout = None"
   ]
  },
  {
   "cell_type": "code",
   "execution_count": 2,
   "metadata": {
    "collapsed": true
   },
   "outputs": [],
   "source": [
    "class JanelaApp(App):\n",
    "    pass\n",
    "\n",
    "janela = JanelaApp()\n",
    "ji = InteractiveLauncher( janela )\n",
    "ji.run()"
   ]
  },
  {
   "cell_type": "code",
   "execution_count": 3,
   "metadata": {
    "collapsed": false
   },
   "outputs": [],
   "source": [
    "kvcode = \"\"\"\n",
    "FloatLayout:\n",
    "    TextInput:\n",
    "        id: text_input\n",
    "        size_hint: None, None\n",
    "        width: root.width\n",
    "        height: root.height\n",
    "\"\"\"\n",
    "\n",
    "if(janela.root):\n",
    "    janela.root_window.remove_widget( janela.root )\n",
    "    janela.root = None\n",
    "    glayout = None\n",
    "\n",
    "janela.root = glayout = Builder.load_string( kvcode )\n",
    "janela.root_window.add_widget( glayout )"
   ]
  },
  {
   "cell_type": "code",
   "execution_count": 4,
   "metadata": {
    "collapsed": true
   },
   "outputs": [],
   "source": [
    "ti = glayout.ids.text_input"
   ]
  },
  {
   "cell_type": "code",
   "execution_count": 9,
   "metadata": {
    "collapsed": false
   },
   "outputs": [],
   "source": [
    "ti.text = \"Linha 1\\nLinha 2\\nLinha 3\\n\""
   ]
  },
  {
   "cell_type": "code",
   "execution_count": 11,
   "metadata": {
    "collapsed": true
   },
   "outputs": [],
   "source": [
    "#Somente leitura\n",
    "ti.readonly = False"
   ]
  },
  {
   "cell_type": "code",
   "execution_count": 13,
   "metadata": {
    "collapsed": true
   },
   "outputs": [],
   "source": [
    "ti.font_name = \"consola\"\n",
    "ti.font_size = 25"
   ]
  },
  {
   "cell_type": "code",
   "execution_count": 18,
   "metadata": {
    "collapsed": false
   },
   "outputs": [],
   "source": [
    "ti.foreground_color = .2,.5,.1,1"
   ]
  },
  {
   "cell_type": "code",
   "execution_count": 21,
   "metadata": {
    "collapsed": true
   },
   "outputs": [],
   "source": [
    "ti.tab_width = 10"
   ]
  },
  {
   "cell_type": "code",
   "execution_count": 22,
   "metadata": {
    "collapsed": true
   },
   "outputs": [],
   "source": [
    "ti.write_tab = False"
   ]
  },
  {
   "cell_type": "code",
   "execution_count": 32,
   "metadata": {
    "collapsed": false
   },
   "outputs": [],
   "source": [
    "#ti.padding = 0\n",
    "ti.padding_x = 25"
   ]
  },
  {
   "cell_type": "code",
   "execution_count": null,
   "metadata": {
    "collapsed": true
   },
   "outputs": [],
   "source": []
  },
  {
   "cell_type": "code",
   "execution_count": null,
   "metadata": {
    "collapsed": true
   },
   "outputs": [],
   "source": []
  }
 ],
 "metadata": {
  "anaconda-cloud": {},
  "kernelspec": {
   "display_name": "Python 3",
   "language": "python",
   "name": "python3"
  },
  "language_info": {
   "codemirror_mode": {
    "name": "ipython",
    "version": 3
   },
   "file_extension": ".py",
   "mimetype": "text/x-python",
   "name": "python",
   "nbconvert_exporter": "python",
   "pygments_lexer": "ipython3",
   "version": "3.5.2"
  }
 },
 "nbformat": 4,
 "nbformat_minor": 0
}
