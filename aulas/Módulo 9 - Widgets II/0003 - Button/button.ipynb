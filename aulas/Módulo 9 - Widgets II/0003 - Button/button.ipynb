{
 "cells": [
  {
   "cell_type": "code",
   "execution_count": 1,
   "metadata": {
    "collapsed": false
   },
   "outputs": [
    {
     "name": "stderr",
     "output_type": "stream",
     "text": [
      "[INFO              ] [Logger      ] Record log in C:\\Users\\Claudio\\.kivy\\logs\\kivy_16-10-02_1.txt\n",
      "[INFO              ] [Factory     ] 179 symbols loaded\n",
      "[DEBUG             ] [Cache       ] register <kv.image> with limit=None, timeout=60\n",
      "[DEBUG             ] [Cache       ] register <kv.atlas> with limit=None, timeout=None\n",
      "[INFO              ] [Image       ] Providers: img_tex, img_dds, img_gif, img_sdl2 (img_pil, img_ffpyplayer ignored)\n",
      "[DEBUG             ] [Cache       ] register <kv.texture> with limit=1000, timeout=60\n",
      "[DEBUG             ] [Cache       ] register <kv.shader> with limit=1000, timeout=3600\n",
      "[DEBUG             ] [Cache       ] register <kv.lang> with limit=None, timeout=None\n",
      "[INFO              ] [Text        ] Provider: sdl2\n",
      "[DEBUG             ] [Cache       ] register <textinput.label> with limit=None, timeout=60.0\n",
      "[DEBUG             ] [Cache       ] register <textinput.width> with limit=None, timeout=60.0\n",
      "[INFO              ] [Kivy        ] v1.9.1\n",
      "[INFO              ] [Python      ] v3.5.2 |Continuum Analytics, Inc.| (default, Jul  5 2016, 11:45:57) [MSC v.1900 32 bit (Intel)]\n"
     ]
    }
   ],
   "source": [
    "#coding: utf-8\n",
    "#author: Cláudio Rogério Carvalho Filho\n",
    "#####################\n",
    "#### eXcript.com ####\n",
    "#####################\n",
    "\n",
    "from kivy.app import App\n",
    "from kivy.uix.button import Button\n",
    "from kivy.uix.label import Label\n",
    "from kivy.interactive import InteractiveLauncher\n",
    "from kivy.lang import Builder\n",
    "\n",
    "#força a aplicação a não iniciar em tela cheia\n",
    "from kivy.config import Config\n",
    "Config.set(\"graphics\", \"fullscreen\", \"0\")\n",
    "\n",
    "janela = None\n",
    "glayout = None"
   ]
  },
  {
   "cell_type": "code",
   "execution_count": 2,
   "metadata": {
    "collapsed": true
   },
   "outputs": [],
   "source": [
    "class JanelaApp(App):\n",
    "    pass\n",
    "\n",
    "janela = JanelaApp()\n",
    "ji = InteractiveLauncher( janela )\n",
    "ji.run()"
   ]
  },
  {
   "cell_type": "code",
   "execution_count": 3,
   "metadata": {
    "collapsed": false
   },
   "outputs": [],
   "source": [
    "kvcode = \"\"\"\n",
    "StackLayout:\n",
    "    orientation: \"tb-lr\"\n",
    "    padding: 50\n",
    "\"\"\"\n",
    "\n",
    "if(janela.root):\n",
    "    janela.root_window.remove_widget( janela.root )\n",
    "    janela.root = None\n",
    "    glayout = None\n",
    "\n",
    "janela.root = glayout = Builder.load_string( kvcode )\n",
    "janela.root_window.add_widget( glayout )"
   ]
  },
  {
   "cell_type": "code",
   "execution_count": 8,
   "metadata": {
    "collapsed": false
   },
   "outputs": [],
   "source": [
    "def add_bt(**args):\n",
    "    bt = Button(text=\"Estudando a classe Button.\",\n",
    "                   size_hint_y=None, \n",
    "                       height=50, \n",
    "                           markup=True,\n",
    "                             **args)\n",
    "    glayout.add_widget(bt)\n",
    "    return bt"
   ]
  },
  {
   "cell_type": "code",
   "execution_count": 9,
   "metadata": {
    "collapsed": false
   },
   "outputs": [],
   "source": [
    "#font_size: determina o tamanho da fonte\n",
    "add_bt().font_size = 30"
   ]
  },
  {
   "cell_type": "code",
   "execution_count": 10,
   "metadata": {
    "collapsed": false
   },
   "outputs": [],
   "source": [
    "#font_name: determina a fonte do texto\n",
    "add_bt().font_name = \"consola\""
   ]
  },
  {
   "cell_type": "code",
   "execution_count": 11,
   "metadata": {
    "collapsed": true
   },
   "outputs": [],
   "source": [
    "#bold: Propriedade negrito; bold = negrito\n",
    "add_bt(font_size=22).bold = True"
   ]
  },
  {
   "cell_type": "code",
   "execution_count": 12,
   "metadata": {
    "collapsed": true
   },
   "outputs": [],
   "source": [
    "#italic: propriedade Italico\n",
    "add_bt(font_size=22).italic = True"
   ]
  },
  {
   "cell_type": "code",
   "execution_count": 13,
   "metadata": {
    "collapsed": true
   },
   "outputs": [],
   "source": [
    "#color: Cor de todo o texto\n",
    "add_bt().color = .9,.5,.3,1"
   ]
  },
  {
   "cell_type": "code",
   "execution_count": 14,
   "metadata": {
    "collapsed": true
   },
   "outputs": [],
   "source": [
    "bt = add_bt()\n",
    "bt.markup = True\n",
    "bt.text = \"Esse [b]texto[/b] possui formatação\""
   ]
  },
  {
   "cell_type": "code",
   "execution_count": 16,
   "metadata": {
    "collapsed": false
   },
   "outputs": [],
   "source": [
    "#on_press\n",
    "def click(bt):\n",
    "    bt.text = \"on_press\"\n",
    "def fim_click(bt):\n",
    "    bt.text = \"on_realese\"\n",
    "    \n",
    "bt = add_bt()\n",
    "bt.bind(on_press=click)\n",
    "bt.bind(on_release=fim_click)\n",
    "\n"
   ]
  },
  {
   "cell_type": "code",
   "execution_count": 17,
   "metadata": {
    "collapsed": true
   },
   "outputs": [],
   "source": []
  }
 ],
 "metadata": {
  "anaconda-cloud": {},
  "kernelspec": {
   "display_name": "Python 3",
   "language": "python",
   "name": "python3"
  },
  "language_info": {
   "codemirror_mode": {
    "name": "ipython",
    "version": 3
   },
   "file_extension": ".py",
   "mimetype": "text/x-python",
   "name": "python",
   "nbconvert_exporter": "python",
   "pygments_lexer": "ipython3",
   "version": "3.5.2"
  }
 },
 "nbformat": 4,
 "nbformat_minor": 0
}
